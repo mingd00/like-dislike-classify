{
 "cells": [
  {
   "cell_type": "code",
   "execution_count": 1,
   "id": "499c142c",
   "metadata": {},
   "outputs": [],
   "source": [
    "import numpy as np\n",
    "import pandas as pd"
   ]
  },
  {
   "cell_type": "code",
   "execution_count": 2,
   "id": "7b05b4be",
   "metadata": {},
   "outputs": [],
   "source": [
    "df = pd.read_csv('good_bad.csv')"
   ]
  },
  {
   "cell_type": "code",
   "execution_count": 4,
   "id": "cf01b26d",
   "metadata": {},
   "outputs": [
    {
     "data": {
      "text/plain": [
       "(200, 101)"
      ]
     },
     "execution_count": 4,
     "metadata": {},
     "output_type": "execute_result"
    }
   ],
   "source": [
    "df.shape"
   ]
  },
  {
   "cell_type": "code",
   "execution_count": 5,
   "id": "44d15e64",
   "metadata": {},
   "outputs": [
    {
     "data": {
      "text/html": [
       "<div>\n",
       "<style scoped>\n",
       "    .dataframe tbody tr th:only-of-type {\n",
       "        vertical-align: middle;\n",
       "    }\n",
       "\n",
       "    .dataframe tbody tr th {\n",
       "        vertical-align: top;\n",
       "    }\n",
       "\n",
       "    .dataframe thead th {\n",
       "        text-align: right;\n",
       "    }\n",
       "</style>\n",
       "<table border=\"1\" class=\"dataframe\">\n",
       "  <thead>\n",
       "    <tr style=\"text-align: right;\">\n",
       "      <th></th>\n",
       "      <th>value1</th>\n",
       "      <th>value2</th>\n",
       "      <th>value3</th>\n",
       "      <th>value4</th>\n",
       "      <th>value5</th>\n",
       "      <th>value6</th>\n",
       "      <th>value7</th>\n",
       "      <th>value8</th>\n",
       "      <th>value9</th>\n",
       "      <th>value10</th>\n",
       "      <th>...</th>\n",
       "      <th>value92</th>\n",
       "      <th>value93</th>\n",
       "      <th>value94</th>\n",
       "      <th>value95</th>\n",
       "      <th>value96</th>\n",
       "      <th>value97</th>\n",
       "      <th>value98</th>\n",
       "      <th>value99</th>\n",
       "      <th>value100</th>\n",
       "      <th>species</th>\n",
       "    </tr>\n",
       "  </thead>\n",
       "  <tbody>\n",
       "    <tr>\n",
       "      <th>73</th>\n",
       "      <td>-1350</td>\n",
       "      <td>-1120</td>\n",
       "      <td>-1030</td>\n",
       "      <td>-1220</td>\n",
       "      <td>-1200</td>\n",
       "      <td>-974</td>\n",
       "      <td>-808</td>\n",
       "      <td>-947</td>\n",
       "      <td>-1060</td>\n",
       "      <td>-909</td>\n",
       "      <td>...</td>\n",
       "      <td>-286</td>\n",
       "      <td>-378</td>\n",
       "      <td>-531</td>\n",
       "      <td>-516</td>\n",
       "      <td>-408</td>\n",
       "      <td>-424</td>\n",
       "      <td>-534</td>\n",
       "      <td>-508</td>\n",
       "      <td>-388</td>\n",
       "      <td>0</td>\n",
       "    </tr>\n",
       "    <tr>\n",
       "      <th>181</th>\n",
       "      <td>72</td>\n",
       "      <td>107</td>\n",
       "      <td>131</td>\n",
       "      <td>137</td>\n",
       "      <td>125</td>\n",
       "      <td>105</td>\n",
       "      <td>96</td>\n",
       "      <td>97</td>\n",
       "      <td>93</td>\n",
       "      <td>80</td>\n",
       "      <td>...</td>\n",
       "      <td>54</td>\n",
       "      <td>66</td>\n",
       "      <td>64</td>\n",
       "      <td>32</td>\n",
       "      <td>3</td>\n",
       "      <td>10</td>\n",
       "      <td>24</td>\n",
       "      <td>22</td>\n",
       "      <td>27</td>\n",
       "      <td>1</td>\n",
       "    </tr>\n",
       "    <tr>\n",
       "      <th>156</th>\n",
       "      <td>145</td>\n",
       "      <td>154</td>\n",
       "      <td>177</td>\n",
       "      <td>184</td>\n",
       "      <td>156</td>\n",
       "      <td>133</td>\n",
       "      <td>133</td>\n",
       "      <td>139</td>\n",
       "      <td>130</td>\n",
       "      <td>120</td>\n",
       "      <td>...</td>\n",
       "      <td>51</td>\n",
       "      <td>54</td>\n",
       "      <td>66</td>\n",
       "      <td>70</td>\n",
       "      <td>65</td>\n",
       "      <td>50</td>\n",
       "      <td>33</td>\n",
       "      <td>10</td>\n",
       "      <td>-18</td>\n",
       "      <td>1</td>\n",
       "    </tr>\n",
       "    <tr>\n",
       "      <th>113</th>\n",
       "      <td>20</td>\n",
       "      <td>4</td>\n",
       "      <td>-45</td>\n",
       "      <td>-83</td>\n",
       "      <td>-91</td>\n",
       "      <td>-72</td>\n",
       "      <td>-74</td>\n",
       "      <td>-117</td>\n",
       "      <td>-102</td>\n",
       "      <td>-41</td>\n",
       "      <td>...</td>\n",
       "      <td>2</td>\n",
       "      <td>-34</td>\n",
       "      <td>-49</td>\n",
       "      <td>-2</td>\n",
       "      <td>37</td>\n",
       "      <td>20</td>\n",
       "      <td>-28</td>\n",
       "      <td>-41</td>\n",
       "      <td>6</td>\n",
       "      <td>1</td>\n",
       "    </tr>\n",
       "    <tr>\n",
       "      <th>40</th>\n",
       "      <td>609</td>\n",
       "      <td>920</td>\n",
       "      <td>1130</td>\n",
       "      <td>921</td>\n",
       "      <td>641</td>\n",
       "      <td>772</td>\n",
       "      <td>1000</td>\n",
       "      <td>802</td>\n",
       "      <td>428</td>\n",
       "      <td>518</td>\n",
       "      <td>...</td>\n",
       "      <td>328</td>\n",
       "      <td>311</td>\n",
       "      <td>10</td>\n",
       "      <td>-76</td>\n",
       "      <td>178</td>\n",
       "      <td>296</td>\n",
       "      <td>119</td>\n",
       "      <td>-70</td>\n",
       "      <td>107</td>\n",
       "      <td>0</td>\n",
       "    </tr>\n",
       "  </tbody>\n",
       "</table>\n",
       "<p>5 rows × 101 columns</p>\n",
       "</div>"
      ],
      "text/plain": [
       "     value1  value2  value3  value4  value5  value6  value7  value8  value9  \\\n",
       "73    -1350   -1120   -1030   -1220   -1200    -974    -808    -947   -1060   \n",
       "181      72     107     131     137     125     105      96      97      93   \n",
       "156     145     154     177     184     156     133     133     139     130   \n",
       "113      20       4     -45     -83     -91     -72     -74    -117    -102   \n",
       "40      609     920    1130     921     641     772    1000     802     428   \n",
       "\n",
       "     value10  ...  value92  value93  value94  value95  value96  value97  \\\n",
       "73      -909  ...     -286     -378     -531     -516     -408     -424   \n",
       "181       80  ...       54       66       64       32        3       10   \n",
       "156      120  ...       51       54       66       70       65       50   \n",
       "113      -41  ...        2      -34      -49       -2       37       20   \n",
       "40       518  ...      328      311       10      -76      178      296   \n",
       "\n",
       "     value98  value99  value100  species  \n",
       "73      -534     -508      -388        0  \n",
       "181       24       22        27        1  \n",
       "156       33       10       -18        1  \n",
       "113      -28      -41         6        1  \n",
       "40       119      -70       107        0  \n",
       "\n",
       "[5 rows x 101 columns]"
      ]
     },
     "execution_count": 5,
     "metadata": {},
     "output_type": "execute_result"
    }
   ],
   "source": [
    "df.sample(5)"
   ]
  },
  {
   "cell_type": "code",
   "execution_count": 6,
   "id": "7c874018",
   "metadata": {},
   "outputs": [],
   "source": [
    "#속성을 x, 클래스를 y로 지정하기\n",
    "X=df.iloc[:,0:100]\n",
    "y=df.iloc[:,100]"
   ]
  },
  {
   "cell_type": "code",
   "execution_count": 7,
   "id": "95d619ca",
   "metadata": {},
   "outputs": [],
   "source": [
    "from sklearn.model_selection import train_test_split\n",
    "X_train,X_test,y_train,y_test = train_test_split(X,y,test_size=0.2,random_state=2)"
   ]
  },
  {
   "cell_type": "code",
   "execution_count": 9,
   "id": "cd8f2d70",
   "metadata": {},
   "outputs": [
    {
     "data": {
      "text/plain": [
       "0.925"
      ]
     },
     "execution_count": 9,
     "metadata": {},
     "output_type": "execute_result"
    }
   ],
   "source": [
    "from sklearn.ensemble import RandomForestClassifier\n",
    "from sklearn.metrics import accuracy_score\n",
    "\n",
    "rf = RandomForestClassifier()\n",
    "\n",
    "rf.fit(X_train,y_train)\n",
    "\n",
    "y_pred = rf.predict(X_test)\n",
    "\n",
    "accuracy_score(y_test,y_pred)"
   ]
  },
  {
   "cell_type": "code",
   "execution_count": 10,
   "id": "e6583c00",
   "metadata": {},
   "outputs": [],
   "source": [
    "import pickle\n",
    "pickle.dump(rf,open('model1.pkl','wb'))"
   ]
  },
  {
   "cell_type": "code",
   "execution_count": null,
   "id": "ff4d6d89",
   "metadata": {},
   "outputs": [],
   "source": []
  }
 ],
 "metadata": {
  "kernelspec": {
   "display_name": "Python 3 (ipykernel)",
   "language": "python",
   "name": "python3"
  },
  "language_info": {
   "codemirror_mode": {
    "name": "ipython",
    "version": 3
   },
   "file_extension": ".py",
   "mimetype": "text/x-python",
   "name": "python",
   "nbconvert_exporter": "python",
   "pygments_lexer": "ipython3",
   "version": "3.9.0"
  }
 },
 "nbformat": 4,
 "nbformat_minor": 5
}
